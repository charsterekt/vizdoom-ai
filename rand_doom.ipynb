{
 "cells": [
  {
   "cell_type": "code",
   "execution_count": null,
   "metadata": {},
   "outputs": [],
   "source": [
    "%pip install vizdoom\n",
    "%pip install gym\n",
    "\n",
    "!cd git_doom & git clone https://github.com/mwydmuch/ViZDoom"
   ]
  },
  {
   "cell_type": "code",
   "execution_count": null,
   "metadata": {},
   "outputs": [],
   "source": [
    "# Imports \n",
    "from vizdoom import *  # Game env\n",
    "import random  # Random action sampling\n",
    "import time  # For sleeping+\n",
    "import numpy as np  # Identity matrix and more\n"
   ]
  },
  {
   "cell_type": "code",
   "execution_count": null,
   "metadata": {},
   "outputs": [],
   "source": [
    "# Create random actions\n",
    "actions = np.identity(3, dtype=np.uint8)\n",
    "actions\n",
    "\n",
    "# Index 0 represents move left\n",
    "# Index 1 represents move right\n",
    "# Index 2 represents shoot\n"
   ]
  },
  {
   "cell_type": "code",
   "execution_count": null,
   "metadata": {},
   "outputs": [],
   "source": [
    "# We can now randomly sample actions\n",
    "random.choice(actions)"
   ]
  },
  {
   "cell_type": "code",
   "execution_count": null,
   "metadata": {},
   "outputs": [],
   "source": [
    "# Game setup\n",
    "game = DoomGame()\n",
    "game.load_config(\"git_doom/ViZDoom/scenarios/basic.cfg\")\n",
    "game.init()"
   ]
  },
  {
   "cell_type": "code",
   "execution_count": null,
   "metadata": {},
   "outputs": [],
   "source": [
    "# We can now use random actions and see how they affect the game\n",
    "# We're going to play 10 games while trying this out\n",
    "episodes = 10\n",
    "for episode in range(episodes):  # Loop through the episodes\n",
    "    game.new_episode()  # Create a new episode from scratch\n",
    "    while not game.is_episode_finished():  # While not dead\n",
    "        state = game.get_state()  # Frame data\n",
    "        img = state.screen_buffer  # Get the screen buffer (frame image)\n",
    "        info = state.game_variables  # Get the game variables (health, ammo, etc.)\n",
    "        # This will correspond to the available variables in the config\n",
    "        reward = game.make_action(random.choice(actions))  # Used later to train an RL model\n",
    "        print(\"Reward: \", reward)\n",
    "        # Current reward config:\n",
    "        # 101 for kill, -1 for step, -5 for shoot, timeout on 300\n",
    "        # Episode ends on kill or timeout\n",
    "        time.sleep(0.02)  # Sleep for a bit to let the game run\n",
    "    print(\"Result: \", game.get_total_reward())  # Final score\n",
    "    time.sleep(2)  # Sleep for a bit between turns\n",
    "\n",
    "game.close()  # On end, close it\n",
    "\n",
    "# There are various rewards, timeout params etc. Read about them from the git repo.\n",
    "# Frame skip is an important concept to remember since there is delay between \n",
    "# taking an action and seeing the result.\n",
    "# It can be set as the second param in game.make_action"
   ]
  }
 ],
 "metadata": {
  "interpreter": {
   "hash": "4ce0e62306dd6a5716965d4519ada776f947e6dfc145b604b11307c10277ef29"
  },
  "kernelspec": {
   "display_name": "Python 3.8.6 64-bit",
   "language": "python",
   "name": "python3"
  },
  "language_info": {
   "codemirror_mode": {
    "name": "ipython",
    "version": 3
   },
   "file_extension": ".py",
   "mimetype": "text/x-python",
   "name": "python",
   "nbconvert_exporter": "python",
   "pygments_lexer": "ipython3",
   "version": "3.8.6"
  },
  "orig_nbformat": 4
 },
 "nbformat": 4,
 "nbformat_minor": 2
}
